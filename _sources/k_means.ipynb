{
  "nbformat": 4,
  "nbformat_minor": 0,
  "metadata": {
    "colab": {
      "provenance": [],
      "collapsed_sections": []
    },
    "kernelspec": {
      "name": "python3",
      "display_name": "Python 3"
    },
    "language_info": {
      "name": "python"
    }
  },
  "cells": [
    {
      "cell_type": "markdown",
      "source": [
        "## Tugas 4\n",
        "*K-Means iris dataset*"
      ],
      "metadata": {
        "id": "BU443Xk72Uch"
      }
    },
    {
      "cell_type": "markdown",
      "source": [
        "\n",
        "K-Means on Iris Dataset"
      ],
      "metadata": {
        "id": "UIfKe7evgpB7"
      }
    },
    {
      "cell_type": "markdown",
      "source": [
        "## **Pengertian**\n",
        "\n",
        "Algoritma K-Means merupakan salah satu algoritma Clustering yang masuk ke dalam kelompok Unsupervised learning yang digunakan untuk mengelompokkan data ke dalam beberapa kelompok dengan sistem partisi sehingga data yang berkarakteristik sama dimasukkan ke dalam satu kelompok yang sama"
      ],
      "metadata": {
        "id": "ZODZ-JTNdSyB"
      }
    },
    {
      "cell_type": "markdown",
      "source": [
        "## **Algoritma K-Means**\n",
        "\n",
        "1.\tMenentukan jumlah cluster yang akan dibentuk\n",
        "2. \tMenentukan titik pusat cluster (centroid) secara acak\n",
        "3. \tMenghitung jarak masing-masing data ke pusat cluster kemudian memasukan data tersebut ke cluster tertentu jika memiliki jarak terdekat (jarak yang nilainya rendah)\n",
        "4.\tMenentukan pusat cluster baru dengan menghitung rata-rata dari anggota cluster\n",
        "5.\tMengulangi langkah ketiga dan keempat hingga tidak ada data yang berpindah tempat."
      ],
      "metadata": {
        "id": "dRNYF4K4dW5f"
      }
    },
    {
      "cell_type": "markdown",
      "source": [
        "# IMPLEMENTASI CODE\n"
      ],
      "metadata": {
        "id": "CL1jS8NhddlQ"
      }
    },
    {
      "cell_type": "code",
      "source": [
        "import pandas as pd\n",
        "import numpy as np\n",
        "import matplotlib.pyplot as plt \n",
        "from sklearn.cluster import KMeans\n",
        "from sklearn.preprocessing import MinMaxScaler"
      ],
      "metadata": {
        "id": "UB3JLwDjdnjG"
      },
      "execution_count": null,
      "outputs": []
    },
    {
      "cell_type": "markdown",
      "source": [
        "Menampilkan dataset"
      ],
      "metadata": {
        "id": "d6yhbEZ9eA7k"
      }
    },
    {
      "cell_type": "code",
      "execution_count": null,
      "metadata": {
        "id": "OwoYjhaugeYk",
        "colab": {
          "base_uri": "https://localhost:8080/",
          "height": 206
        },
        "outputId": "06d1a594-98ae-4815-8c29-d4ea9764d4d0"
      },
      "outputs": [
        {
          "output_type": "execute_result",
          "data": {
            "text/plain": [
              "   Id  SepalLengthCm  SepalWidthCm  PetalLengthCm  PetalWidthCm      Species\n",
              "0   1            5.1           3.5            1.4           0.2  Iris-setosa\n",
              "1   2            4.9           3.0            1.4           0.2  Iris-setosa\n",
              "2   3            4.7           3.2            1.3           0.2  Iris-setosa\n",
              "3   4            4.6           3.1            1.5           0.2  Iris-setosa\n",
              "4   5            5.0           3.6            1.4           0.2  Iris-setosa"
            ],
            "text/html": [
              "\n",
              "  <div id=\"df-37de7427-c8c1-4f72-a81f-ce0f17b42940\">\n",
              "    <div class=\"colab-df-container\">\n",
              "      <div>\n",
              "<style scoped>\n",
              "    .dataframe tbody tr th:only-of-type {\n",
              "        vertical-align: middle;\n",
              "    }\n",
              "\n",
              "    .dataframe tbody tr th {\n",
              "        vertical-align: top;\n",
              "    }\n",
              "\n",
              "    .dataframe thead th {\n",
              "        text-align: right;\n",
              "    }\n",
              "</style>\n",
              "<table border=\"1\" class=\"dataframe\">\n",
              "  <thead>\n",
              "    <tr style=\"text-align: right;\">\n",
              "      <th></th>\n",
              "      <th>Id</th>\n",
              "      <th>SepalLengthCm</th>\n",
              "      <th>SepalWidthCm</th>\n",
              "      <th>PetalLengthCm</th>\n",
              "      <th>PetalWidthCm</th>\n",
              "      <th>Species</th>\n",
              "    </tr>\n",
              "  </thead>\n",
              "  <tbody>\n",
              "    <tr>\n",
              "      <th>0</th>\n",
              "      <td>1</td>\n",
              "      <td>5.1</td>\n",
              "      <td>3.5</td>\n",
              "      <td>1.4</td>\n",
              "      <td>0.2</td>\n",
              "      <td>Iris-setosa</td>\n",
              "    </tr>\n",
              "    <tr>\n",
              "      <th>1</th>\n",
              "      <td>2</td>\n",
              "      <td>4.9</td>\n",
              "      <td>3.0</td>\n",
              "      <td>1.4</td>\n",
              "      <td>0.2</td>\n",
              "      <td>Iris-setosa</td>\n",
              "    </tr>\n",
              "    <tr>\n",
              "      <th>2</th>\n",
              "      <td>3</td>\n",
              "      <td>4.7</td>\n",
              "      <td>3.2</td>\n",
              "      <td>1.3</td>\n",
              "      <td>0.2</td>\n",
              "      <td>Iris-setosa</td>\n",
              "    </tr>\n",
              "    <tr>\n",
              "      <th>3</th>\n",
              "      <td>4</td>\n",
              "      <td>4.6</td>\n",
              "      <td>3.1</td>\n",
              "      <td>1.5</td>\n",
              "      <td>0.2</td>\n",
              "      <td>Iris-setosa</td>\n",
              "    </tr>\n",
              "    <tr>\n",
              "      <th>4</th>\n",
              "      <td>5</td>\n",
              "      <td>5.0</td>\n",
              "      <td>3.6</td>\n",
              "      <td>1.4</td>\n",
              "      <td>0.2</td>\n",
              "      <td>Iris-setosa</td>\n",
              "    </tr>\n",
              "  </tbody>\n",
              "</table>\n",
              "</div>\n",
              "      <button class=\"colab-df-convert\" onclick=\"convertToInteractive('df-37de7427-c8c1-4f72-a81f-ce0f17b42940')\"\n",
              "              title=\"Convert this dataframe to an interactive table.\"\n",
              "              style=\"display:none;\">\n",
              "        \n",
              "  <svg xmlns=\"http://www.w3.org/2000/svg\" height=\"24px\"viewBox=\"0 0 24 24\"\n",
              "       width=\"24px\">\n",
              "    <path d=\"M0 0h24v24H0V0z\" fill=\"none\"/>\n",
              "    <path d=\"M18.56 5.44l.94 2.06.94-2.06 2.06-.94-2.06-.94-.94-2.06-.94 2.06-2.06.94zm-11 1L8.5 8.5l.94-2.06 2.06-.94-2.06-.94L8.5 2.5l-.94 2.06-2.06.94zm10 10l.94 2.06.94-2.06 2.06-.94-2.06-.94-.94-2.06-.94 2.06-2.06.94z\"/><path d=\"M17.41 7.96l-1.37-1.37c-.4-.4-.92-.59-1.43-.59-.52 0-1.04.2-1.43.59L10.3 9.45l-7.72 7.72c-.78.78-.78 2.05 0 2.83L4 21.41c.39.39.9.59 1.41.59.51 0 1.02-.2 1.41-.59l7.78-7.78 2.81-2.81c.8-.78.8-2.07 0-2.86zM5.41 20L4 18.59l7.72-7.72 1.47 1.35L5.41 20z\"/>\n",
              "  </svg>\n",
              "      </button>\n",
              "      \n",
              "  <style>\n",
              "    .colab-df-container {\n",
              "      display:flex;\n",
              "      flex-wrap:wrap;\n",
              "      gap: 12px;\n",
              "    }\n",
              "\n",
              "    .colab-df-convert {\n",
              "      background-color: #E8F0FE;\n",
              "      border: none;\n",
              "      border-radius: 50%;\n",
              "      cursor: pointer;\n",
              "      display: none;\n",
              "      fill: #1967D2;\n",
              "      height: 32px;\n",
              "      padding: 0 0 0 0;\n",
              "      width: 32px;\n",
              "    }\n",
              "\n",
              "    .colab-df-convert:hover {\n",
              "      background-color: #E2EBFA;\n",
              "      box-shadow: 0px 1px 2px rgba(60, 64, 67, 0.3), 0px 1px 3px 1px rgba(60, 64, 67, 0.15);\n",
              "      fill: #174EA6;\n",
              "    }\n",
              "\n",
              "    [theme=dark] .colab-df-convert {\n",
              "      background-color: #3B4455;\n",
              "      fill: #D2E3FC;\n",
              "    }\n",
              "\n",
              "    [theme=dark] .colab-df-convert:hover {\n",
              "      background-color: #434B5C;\n",
              "      box-shadow: 0px 1px 3px 1px rgba(0, 0, 0, 0.15);\n",
              "      filter: drop-shadow(0px 1px 2px rgba(0, 0, 0, 0.3));\n",
              "      fill: #FFFFFF;\n",
              "    }\n",
              "  </style>\n",
              "\n",
              "      <script>\n",
              "        const buttonEl =\n",
              "          document.querySelector('#df-37de7427-c8c1-4f72-a81f-ce0f17b42940 button.colab-df-convert');\n",
              "        buttonEl.style.display =\n",
              "          google.colab.kernel.accessAllowed ? 'block' : 'none';\n",
              "\n",
              "        async function convertToInteractive(key) {\n",
              "          const element = document.querySelector('#df-37de7427-c8c1-4f72-a81f-ce0f17b42940');\n",
              "          const dataTable =\n",
              "            await google.colab.kernel.invokeFunction('convertToInteractive',\n",
              "                                                     [key], {});\n",
              "          if (!dataTable) return;\n",
              "\n",
              "          const docLinkHtml = 'Like what you see? Visit the ' +\n",
              "            '<a target=\"_blank\" href=https://colab.research.google.com/notebooks/data_table.ipynb>data table notebook</a>'\n",
              "            + ' to learn more about interactive tables.';\n",
              "          element.innerHTML = '';\n",
              "          dataTable['output_type'] = 'display_data';\n",
              "          await google.colab.output.renderOutput(dataTable, element);\n",
              "          const docLink = document.createElement('div');\n",
              "          docLink.innerHTML = docLinkHtml;\n",
              "          element.appendChild(docLink);\n",
              "        }\n",
              "      </script>\n",
              "    </div>\n",
              "  </div>\n",
              "  "
            ]
          },
          "metadata": {},
          "execution_count": 3
        }
      ],
      "source": [
        "url = \"https://raw.githubusercontent.com/HanifSantoso05/dataset_matkul/main/Iris.csv\"\n",
        "#colnames = ['sepal-length', 'sepal-width', 'petal-length', 'petal-width', 'Class']\n",
        "air = pd.read_csv(url)\n",
        "air.head()"
      ]
    },
    {
      "cell_type": "markdown",
      "source": [
        "Menentukan fitur yang akan dikelompokkan \n",
        "\n",
        "Pada fitur ini yang nantinya akan digunakan adalah SepalLengthCm, SepalWidthCm, PetalLengthCm, PetalWidthCm"
      ],
      "metadata": {
        "id": "GCVLpN8SeQHV"
      }
    },
    {
      "cell_type": "code",
      "source": [
        "air_x = air.iloc[:, 0:4]\n",
        "air_x.head()"
      ],
      "metadata": {
        "colab": {
          "base_uri": "https://localhost:8080/",
          "height": 206
        },
        "id": "dsxS8q2repd_",
        "outputId": "5501d75b-bfc9-4d07-ba07-b31539d50882"
      },
      "execution_count": null,
      "outputs": [
        {
          "output_type": "execute_result",
          "data": {
            "text/plain": [
              "   Id  SepalLengthCm  SepalWidthCm  PetalLengthCm\n",
              "0   1            5.1           3.5            1.4\n",
              "1   2            4.9           3.0            1.4\n",
              "2   3            4.7           3.2            1.3\n",
              "3   4            4.6           3.1            1.5\n",
              "4   5            5.0           3.6            1.4"
            ],
            "text/html": [
              "\n",
              "  <div id=\"df-59e06a60-2119-4816-9ef8-b0b647649b0f\">\n",
              "    <div class=\"colab-df-container\">\n",
              "      <div>\n",
              "<style scoped>\n",
              "    .dataframe tbody tr th:only-of-type {\n",
              "        vertical-align: middle;\n",
              "    }\n",
              "\n",
              "    .dataframe tbody tr th {\n",
              "        vertical-align: top;\n",
              "    }\n",
              "\n",
              "    .dataframe thead th {\n",
              "        text-align: right;\n",
              "    }\n",
              "</style>\n",
              "<table border=\"1\" class=\"dataframe\">\n",
              "  <thead>\n",
              "    <tr style=\"text-align: right;\">\n",
              "      <th></th>\n",
              "      <th>Id</th>\n",
              "      <th>SepalLengthCm</th>\n",
              "      <th>SepalWidthCm</th>\n",
              "      <th>PetalLengthCm</th>\n",
              "    </tr>\n",
              "  </thead>\n",
              "  <tbody>\n",
              "    <tr>\n",
              "      <th>0</th>\n",
              "      <td>1</td>\n",
              "      <td>5.1</td>\n",
              "      <td>3.5</td>\n",
              "      <td>1.4</td>\n",
              "    </tr>\n",
              "    <tr>\n",
              "      <th>1</th>\n",
              "      <td>2</td>\n",
              "      <td>4.9</td>\n",
              "      <td>3.0</td>\n",
              "      <td>1.4</td>\n",
              "    </tr>\n",
              "    <tr>\n",
              "      <th>2</th>\n",
              "      <td>3</td>\n",
              "      <td>4.7</td>\n",
              "      <td>3.2</td>\n",
              "      <td>1.3</td>\n",
              "    </tr>\n",
              "    <tr>\n",
              "      <th>3</th>\n",
              "      <td>4</td>\n",
              "      <td>4.6</td>\n",
              "      <td>3.1</td>\n",
              "      <td>1.5</td>\n",
              "    </tr>\n",
              "    <tr>\n",
              "      <th>4</th>\n",
              "      <td>5</td>\n",
              "      <td>5.0</td>\n",
              "      <td>3.6</td>\n",
              "      <td>1.4</td>\n",
              "    </tr>\n",
              "  </tbody>\n",
              "</table>\n",
              "</div>\n",
              "      <button class=\"colab-df-convert\" onclick=\"convertToInteractive('df-59e06a60-2119-4816-9ef8-b0b647649b0f')\"\n",
              "              title=\"Convert this dataframe to an interactive table.\"\n",
              "              style=\"display:none;\">\n",
              "        \n",
              "  <svg xmlns=\"http://www.w3.org/2000/svg\" height=\"24px\"viewBox=\"0 0 24 24\"\n",
              "       width=\"24px\">\n",
              "    <path d=\"M0 0h24v24H0V0z\" fill=\"none\"/>\n",
              "    <path d=\"M18.56 5.44l.94 2.06.94-2.06 2.06-.94-2.06-.94-.94-2.06-.94 2.06-2.06.94zm-11 1L8.5 8.5l.94-2.06 2.06-.94-2.06-.94L8.5 2.5l-.94 2.06-2.06.94zm10 10l.94 2.06.94-2.06 2.06-.94-2.06-.94-.94-2.06-.94 2.06-2.06.94z\"/><path d=\"M17.41 7.96l-1.37-1.37c-.4-.4-.92-.59-1.43-.59-.52 0-1.04.2-1.43.59L10.3 9.45l-7.72 7.72c-.78.78-.78 2.05 0 2.83L4 21.41c.39.39.9.59 1.41.59.51 0 1.02-.2 1.41-.59l7.78-7.78 2.81-2.81c.8-.78.8-2.07 0-2.86zM5.41 20L4 18.59l7.72-7.72 1.47 1.35L5.41 20z\"/>\n",
              "  </svg>\n",
              "      </button>\n",
              "      \n",
              "  <style>\n",
              "    .colab-df-container {\n",
              "      display:flex;\n",
              "      flex-wrap:wrap;\n",
              "      gap: 12px;\n",
              "    }\n",
              "\n",
              "    .colab-df-convert {\n",
              "      background-color: #E8F0FE;\n",
              "      border: none;\n",
              "      border-radius: 50%;\n",
              "      cursor: pointer;\n",
              "      display: none;\n",
              "      fill: #1967D2;\n",
              "      height: 32px;\n",
              "      padding: 0 0 0 0;\n",
              "      width: 32px;\n",
              "    }\n",
              "\n",
              "    .colab-df-convert:hover {\n",
              "      background-color: #E2EBFA;\n",
              "      box-shadow: 0px 1px 2px rgba(60, 64, 67, 0.3), 0px 1px 3px 1px rgba(60, 64, 67, 0.15);\n",
              "      fill: #174EA6;\n",
              "    }\n",
              "\n",
              "    [theme=dark] .colab-df-convert {\n",
              "      background-color: #3B4455;\n",
              "      fill: #D2E3FC;\n",
              "    }\n",
              "\n",
              "    [theme=dark] .colab-df-convert:hover {\n",
              "      background-color: #434B5C;\n",
              "      box-shadow: 0px 1px 3px 1px rgba(0, 0, 0, 0.15);\n",
              "      filter: drop-shadow(0px 1px 2px rgba(0, 0, 0, 0.3));\n",
              "      fill: #FFFFFF;\n",
              "    }\n",
              "  </style>\n",
              "\n",
              "      <script>\n",
              "        const buttonEl =\n",
              "          document.querySelector('#df-59e06a60-2119-4816-9ef8-b0b647649b0f button.colab-df-convert');\n",
              "        buttonEl.style.display =\n",
              "          google.colab.kernel.accessAllowed ? 'block' : 'none';\n",
              "\n",
              "        async function convertToInteractive(key) {\n",
              "          const element = document.querySelector('#df-59e06a60-2119-4816-9ef8-b0b647649b0f');\n",
              "          const dataTable =\n",
              "            await google.colab.kernel.invokeFunction('convertToInteractive',\n",
              "                                                     [key], {});\n",
              "          if (!dataTable) return;\n",
              "\n",
              "          const docLinkHtml = 'Like what you see? Visit the ' +\n",
              "            '<a target=\"_blank\" href=https://colab.research.google.com/notebooks/data_table.ipynb>data table notebook</a>'\n",
              "            + ' to learn more about interactive tables.';\n",
              "          element.innerHTML = '';\n",
              "          dataTable['output_type'] = 'display_data';\n",
              "          await google.colab.output.renderOutput(dataTable, element);\n",
              "          const docLink = document.createElement('div');\n",
              "          docLink.innerHTML = docLinkHtml;\n",
              "          element.appendChild(docLink);\n",
              "        }\n",
              "      </script>\n",
              "    </div>\n",
              "  </div>\n",
              "  "
            ]
          },
          "metadata": {},
          "execution_count": 4
        }
      ]
    },
    {
      "cell_type": "markdown",
      "source": [
        "mengubah dataframe ke dalam bentuk array"
      ],
      "metadata": {
        "id": "uz8C5_DIgpLh"
      }
    },
    {
      "cell_type": "code",
      "source": [
        "x_array = np.array(air_x)\n",
        "print(x_array)"
      ],
      "metadata": {
        "colab": {
          "base_uri": "https://localhost:8080/"
        },
        "id": "-2x1MxagguyC",
        "outputId": "f1172045-64b6-438b-a6e6-c5d063cb9a7c"
      },
      "execution_count": null,
      "outputs": [
        {
          "output_type": "stream",
          "name": "stdout",
          "text": [
            "[[  1.    5.1   3.5   1.4]\n",
            " [  2.    4.9   3.    1.4]\n",
            " [  3.    4.7   3.2   1.3]\n",
            " [  4.    4.6   3.1   1.5]\n",
            " [  5.    5.    3.6   1.4]\n",
            " [  6.    5.4   3.9   1.7]\n",
            " [  7.    4.6   3.4   1.4]\n",
            " [  8.    5.    3.4   1.5]\n",
            " [  9.    4.4   2.9   1.4]\n",
            " [ 10.    4.9   3.1   1.5]\n",
            " [ 11.    5.4   3.7   1.5]\n",
            " [ 12.    4.8   3.4   1.6]\n",
            " [ 13.    4.8   3.    1.4]\n",
            " [ 14.    4.3   3.    1.1]\n",
            " [ 15.    5.8   4.    1.2]\n",
            " [ 16.    5.7   4.4   1.5]\n",
            " [ 17.    5.4   3.9   1.3]\n",
            " [ 18.    5.1   3.5   1.4]\n",
            " [ 19.    5.7   3.8   1.7]\n",
            " [ 20.    5.1   3.8   1.5]\n",
            " [ 21.    5.4   3.4   1.7]\n",
            " [ 22.    5.1   3.7   1.5]\n",
            " [ 23.    4.6   3.6   1. ]\n",
            " [ 24.    5.1   3.3   1.7]\n",
            " [ 25.    4.8   3.4   1.9]\n",
            " [ 26.    5.    3.    1.6]\n",
            " [ 27.    5.    3.4   1.6]\n",
            " [ 28.    5.2   3.5   1.5]\n",
            " [ 29.    5.2   3.4   1.4]\n",
            " [ 30.    4.7   3.2   1.6]\n",
            " [ 31.    4.8   3.1   1.6]\n",
            " [ 32.    5.4   3.4   1.5]\n",
            " [ 33.    5.2   4.1   1.5]\n",
            " [ 34.    5.5   4.2   1.4]\n",
            " [ 35.    4.9   3.1   1.5]\n",
            " [ 36.    5.    3.2   1.2]\n",
            " [ 37.    5.5   3.5   1.3]\n",
            " [ 38.    4.9   3.1   1.5]\n",
            " [ 39.    4.4   3.    1.3]\n",
            " [ 40.    5.1   3.4   1.5]\n",
            " [ 41.    5.    3.5   1.3]\n",
            " [ 42.    4.5   2.3   1.3]\n",
            " [ 43.    4.4   3.2   1.3]\n",
            " [ 44.    5.    3.5   1.6]\n",
            " [ 45.    5.1   3.8   1.9]\n",
            " [ 46.    4.8   3.    1.4]\n",
            " [ 47.    5.1   3.8   1.6]\n",
            " [ 48.    4.6   3.2   1.4]\n",
            " [ 49.    5.3   3.7   1.5]\n",
            " [ 50.    5.    3.3   1.4]\n",
            " [ 51.    7.    3.2   4.7]\n",
            " [ 52.    6.4   3.2   4.5]\n",
            " [ 53.    6.9   3.1   4.9]\n",
            " [ 54.    5.5   2.3   4. ]\n",
            " [ 55.    6.5   2.8   4.6]\n",
            " [ 56.    5.7   2.8   4.5]\n",
            " [ 57.    6.3   3.3   4.7]\n",
            " [ 58.    4.9   2.4   3.3]\n",
            " [ 59.    6.6   2.9   4.6]\n",
            " [ 60.    5.2   2.7   3.9]\n",
            " [ 61.    5.    2.    3.5]\n",
            " [ 62.    5.9   3.    4.2]\n",
            " [ 63.    6.    2.2   4. ]\n",
            " [ 64.    6.1   2.9   4.7]\n",
            " [ 65.    5.6   2.9   3.6]\n",
            " [ 66.    6.7   3.1   4.4]\n",
            " [ 67.    5.6   3.    4.5]\n",
            " [ 68.    5.8   2.7   4.1]\n",
            " [ 69.    6.2   2.2   4.5]\n",
            " [ 70.    5.6   2.5   3.9]\n",
            " [ 71.    5.9   3.2   4.8]\n",
            " [ 72.    6.1   2.8   4. ]\n",
            " [ 73.    6.3   2.5   4.9]\n",
            " [ 74.    6.1   2.8   4.7]\n",
            " [ 75.    6.4   2.9   4.3]\n",
            " [ 76.    6.6   3.    4.4]\n",
            " [ 77.    6.8   2.8   4.8]\n",
            " [ 78.    6.7   3.    5. ]\n",
            " [ 79.    6.    2.9   4.5]\n",
            " [ 80.    5.7   2.6   3.5]\n",
            " [ 81.    5.5   2.4   3.8]\n",
            " [ 82.    5.5   2.4   3.7]\n",
            " [ 83.    5.8   2.7   3.9]\n",
            " [ 84.    6.    2.7   5.1]\n",
            " [ 85.    5.4   3.    4.5]\n",
            " [ 86.    6.    3.4   4.5]\n",
            " [ 87.    6.7   3.1   4.7]\n",
            " [ 88.    6.3   2.3   4.4]\n",
            " [ 89.    5.6   3.    4.1]\n",
            " [ 90.    5.5   2.5   4. ]\n",
            " [ 91.    5.5   2.6   4.4]\n",
            " [ 92.    6.1   3.    4.6]\n",
            " [ 93.    5.8   2.6   4. ]\n",
            " [ 94.    5.    2.3   3.3]\n",
            " [ 95.    5.6   2.7   4.2]\n",
            " [ 96.    5.7   3.    4.2]\n",
            " [ 97.    5.7   2.9   4.2]\n",
            " [ 98.    6.2   2.9   4.3]\n",
            " [ 99.    5.1   2.5   3. ]\n",
            " [100.    5.7   2.8   4.1]\n",
            " [101.    6.3   3.3   6. ]\n",
            " [102.    5.8   2.7   5.1]\n",
            " [103.    7.1   3.    5.9]\n",
            " [104.    6.3   2.9   5.6]\n",
            " [105.    6.5   3.    5.8]\n",
            " [106.    7.6   3.    6.6]\n",
            " [107.    4.9   2.5   4.5]\n",
            " [108.    7.3   2.9   6.3]\n",
            " [109.    6.7   2.5   5.8]\n",
            " [110.    7.2   3.6   6.1]\n",
            " [111.    6.5   3.2   5.1]\n",
            " [112.    6.4   2.7   5.3]\n",
            " [113.    6.8   3.    5.5]\n",
            " [114.    5.7   2.5   5. ]\n",
            " [115.    5.8   2.8   5.1]\n",
            " [116.    6.4   3.2   5.3]\n",
            " [117.    6.5   3.    5.5]\n",
            " [118.    7.7   3.8   6.7]\n",
            " [119.    7.7   2.6   6.9]\n",
            " [120.    6.    2.2   5. ]\n",
            " [121.    6.9   3.2   5.7]\n",
            " [122.    5.6   2.8   4.9]\n",
            " [123.    7.7   2.8   6.7]\n",
            " [124.    6.3   2.7   4.9]\n",
            " [125.    6.7   3.3   5.7]\n",
            " [126.    7.2   3.2   6. ]\n",
            " [127.    6.2   2.8   4.8]\n",
            " [128.    6.1   3.    4.9]\n",
            " [129.    6.4   2.8   5.6]\n",
            " [130.    7.2   3.    5.8]\n",
            " [131.    7.4   2.8   6.1]\n",
            " [132.    7.9   3.8   6.4]\n",
            " [133.    6.4   2.8   5.6]\n",
            " [134.    6.3   2.8   5.1]\n",
            " [135.    6.1   2.6   5.6]\n",
            " [136.    7.7   3.    6.1]\n",
            " [137.    6.3   3.4   5.6]\n",
            " [138.    6.4   3.1   5.5]\n",
            " [139.    6.    3.    4.8]\n",
            " [140.    6.9   3.1   5.4]\n",
            " [141.    6.7   3.1   5.6]\n",
            " [142.    6.9   3.1   5.1]\n",
            " [143.    5.8   2.7   5.1]\n",
            " [144.    6.8   3.2   5.9]\n",
            " [145.    6.7   3.3   5.7]\n",
            " [146.    6.7   3.    5.2]\n",
            " [147.    6.3   2.5   5. ]\n",
            " [148.    6.5   3.    5.2]\n",
            " [149.    6.2   3.4   5.4]\n",
            " [150.    5.9   3.    5.1]]\n"
          ]
        }
      ]
    },
    {
      "cell_type": "markdown",
      "source": [
        "Melakukan normalisasi data dengan menggunakan metode Min Max Scaler.\n",
        "\n",
        "Normalisasi data : digunakan untuk memperkecil jarak antar sehingga memudahkan dalam proses perhitungan."
      ],
      "metadata": {
        "id": "k_Pk_RePgzha"
      }
    },
    {
      "cell_type": "code",
      "source": [
        "scaler = MinMaxScaler()\n",
        "x_scaled = scaler.fit_transform(x_array)\n",
        "x_scaled\n",
        "dataframe= pd.DataFrame(x_scaled, columns=['SepalLengthCm','SepalWidthCm','PetalLengthCm','PetalWidthCm']) \n",
        "print (dataframe)"
      ],
      "metadata": {
        "colab": {
          "base_uri": "https://localhost:8080/"
        },
        "id": "uWXv7bFshHAh",
        "outputId": "9bf69a03-5050-4969-9e5f-6a73fa713681"
      },
      "execution_count": null,
      "outputs": [
        {
          "output_type": "stream",
          "name": "stdout",
          "text": [
            "     SepalLengthCm  SepalWidthCm  PetalLengthCm  PetalWidthCm\n",
            "0         0.000000      0.222222       0.625000      0.067797\n",
            "1         0.006711      0.166667       0.416667      0.067797\n",
            "2         0.013423      0.111111       0.500000      0.050847\n",
            "3         0.020134      0.083333       0.458333      0.084746\n",
            "4         0.026846      0.194444       0.666667      0.067797\n",
            "..             ...           ...            ...           ...\n",
            "145       0.973154      0.666667       0.416667      0.711864\n",
            "146       0.979866      0.555556       0.208333      0.677966\n",
            "147       0.986577      0.611111       0.416667      0.711864\n",
            "148       0.993289      0.527778       0.583333      0.745763\n",
            "149       1.000000      0.444444       0.416667      0.694915\n",
            "\n",
            "[150 rows x 4 columns]\n"
          ]
        }
      ]
    },
    {
      "cell_type": "markdown",
      "source": [
        "Menentukan dan mengonfigurasu fungsi k-means dengan mengelompokkan data menjadi 3 cluster\n",
        "\n"
      ],
      "metadata": {
        "id": "3l-LB0U7hL0i"
      }
    },
    {
      "cell_type": "code",
      "source": [
        "kmeans = KMeans(n_clusters = 3, init = 'k-means++', max_iter = 300, n_init = 10, random_state = 0)\n",
        "y_kmeans = kmeans.fit_predict(x_scaled)"
      ],
      "metadata": {
        "id": "zkfTtP-xhZbm"
      },
      "execution_count": null,
      "outputs": []
    },
    {
      "cell_type": "code",
      "source": [
        "kmeans.fit(x_scaled)"
      ],
      "metadata": {
        "colab": {
          "base_uri": "https://localhost:8080/"
        },
        "id": "R5057LIChdsS",
        "outputId": "45acb7b3-93d6-409d-ba83-2086fb6bf6aa"
      },
      "execution_count": null,
      "outputs": [
        {
          "output_type": "execute_result",
          "data": {
            "text/plain": [
              "KMeans(n_clusters=3, random_state=0)"
            ]
          },
          "metadata": {},
          "execution_count": 8
        }
      ]
    },
    {
      "cell_type": "markdown",
      "source": [
        "Menentukan nilai centeroid"
      ],
      "metadata": {
        "id": "cj_R1Q2IhjtG"
      }
    },
    {
      "cell_type": "code",
      "source": [
        "print(kmeans.cluster_centers_)"
      ],
      "metadata": {
        "colab": {
          "base_uri": "https://localhost:8080/"
        },
        "id": "Y4kuGoA5hnZO",
        "outputId": "f80334ff-d629-447a-c295-6a38cf8726ab"
      },
      "execution_count": null,
      "outputs": [
        {
          "output_type": "stream",
          "name": "stdout",
          "text": [
            "[[0.16442953 0.19611111 0.59083333 0.07864407]\n",
            " [0.84670531 0.67171717 0.4280303  0.78582435]\n",
            " [0.52720518 0.44543651 0.3125     0.56476998]]\n"
          ]
        }
      ]
    },
    {
      "cell_type": "markdown",
      "source": [
        "Menentukan kolom cluster pada dataframe"
      ],
      "metadata": {
        "id": "8M-KbGhGhrY8"
      }
    },
    {
      "cell_type": "code",
      "source": [
        "air[\"kluster\"] = kmeans.labels_"
      ],
      "metadata": {
        "id": "flTsYNu8hxOB"
      },
      "execution_count": null,
      "outputs": []
    },
    {
      "cell_type": "markdown",
      "source": [
        "Visualisasi hasil Clustering"
      ],
      "metadata": {
        "id": "m9MX5gxfhz42"
      }
    },
    {
      "cell_type": "markdown",
      "source": [
        "Cara pertama"
      ],
      "metadata": {
        "id": "taqO-O0Ph5dy"
      }
    },
    {
      "cell_type": "code",
      "source": [
        "#Visualising the clusters\n",
        "plt.title(\"Hasil Clustering K-Means\")\n",
        "plt.scatter(x_scaled[y_kmeans == 0, 0], x_scaled[y_kmeans == 0, 1], s = 100, c = 'purple', label = 'Iris-setosa')\n",
        "plt.scatter(x_scaled[y_kmeans == 1, 0], x_scaled[y_kmeans == 1, 1], s = 100, c = 'orange', label = 'Iris-versicolour')\n",
        "plt.scatter(x_scaled[y_kmeans == 2, 0], x_scaled[y_kmeans == 2, 1], s = 100, c = 'green', label = 'Iris-virginica')\n",
        "\n",
        "#Plotting the centroids of the clusters\n",
        "plt.scatter(kmeans.cluster_centers_[:, 0], kmeans.cluster_centers_[:,1], s = 100, c = 'red', label = 'Centroids')\n",
        "\n",
        "plt.legend()"
      ],
      "metadata": {
        "colab": {
          "base_uri": "https://localhost:8080/",
          "height": 299
        },
        "id": "_e3FWzPah86q",
        "outputId": "6649cf9f-28bd-47a4-9968-81ca59c8afdb"
      },
      "execution_count": null,
      "outputs": [
        {
          "output_type": "execute_result",
          "data": {
            "text/plain": [
              "<matplotlib.legend.Legend at 0x7fbd904c3590>"
            ]
          },
          "metadata": {},
          "execution_count": 11
        },
        {
          "output_type": "display_data",
          "data": {
            "text/plain": [
              "<Figure size 432x288 with 1 Axes>"
            ],
            "image/png": "[encoded data removed]"
          },
          "metadata": {
            "needs_background": "light"
          }
        }
      ]
    },
    {
      "cell_type": "markdown",
      "source": [
        "Cara kedua"
      ],
      "metadata": {
        "id": "1LYh7DkriAGL"
      }
    },
    {
      "cell_type": "code",
      "source": [
        "output = plt.scatter(x_scaled[:,0], x_scaled[:,1], s = 100, c = air.kluster, marker = \"o\", alpha = 1, )\n",
        "centers = kmeans.cluster_centers_\n",
        "plt.scatter(centers[:,0], centers[:,1], c=\"red\", s=200, alpha=1 , marker=\"o\");\n",
        "plt.title(\"Hasil Clustering K-Means\")\n",
        "plt.colorbar (output)\n",
        "plt.show()"
      ],
      "metadata": {
        "colab": {
          "base_uri": "https://localhost:8080/",
          "height": 281
        },
        "id": "l3RJEeOsiCJZ",
        "outputId": "dccd44ca-68ef-4ea2-a894-19362e085fab"
      },
      "execution_count": null,
      "outputs": [
        {
          "output_type": "display_data",
          "data": {
            "text/plain": [
              "<Figure size 432x288 with 2 Axes>"
            ],
            "image/png": "[encoded data removed]"
          },
          "metadata": {
            "needs_background": "light"
          }
        }
      ]
    },
    {
      "cell_type": "markdown",
      "source": [
        "## **K-MEANS IRIS DATASET**\n"
      ],
      "metadata": {
        "id": "BP_gz-bp35s-"
      }
    },
    {
      "cell_type": "markdown",
      "source": [
        "# **Algoritma K-means**\n",
        "Algoritma K-Means merupakan salah satu algoritma Clustering yang masuk ke dalam kelompok Unsupervised learning yang digunakan untuk mengelompokkan data ke dalam beberapa kelompok dengan sistem partisi sehingga data yang berkarakteristik sama dimasukkan ke dalam satu kelompok yang sama"
      ],
      "metadata": {
        "id": "tbcMWO-OjB25"
      }
    },
    {
      "cell_type": "code",
      "source": [
        "import numpy as np  \n",
        "import matplotlib.pyplot as plt  \n",
        "import pandas as pd\n",
        "\n",
        "url = \"https://archive.ics.uci.edu/ml/machine-learning-databases/iris/iris.data\"\n",
        "#the imported dataset does not have the required column names so lets add it\n",
        "colnames = ['sepal-length', 'sepal-width', 'petal-length', 'petal-width', 'Class']\n",
        "irisdata = pd.read_csv(url, names=colnames)"
      ],
      "metadata": {
        "id": "AMyWQlpEi1rI"
      },
      "execution_count": null,
      "outputs": []
    },
    {
      "cell_type": "markdown",
      "source": [
        "\n",
        "\n",
        "*   Menampilkan data iris\n",
        "\n"
      ],
      "metadata": {
        "id": "-Gp6WY8oi3zj"
      }
    },
    {
      "cell_type": "code",
      "source": [
        "irisdata"
      ],
      "metadata": {
        "colab": {
          "base_uri": "https://localhost:8080/",
          "height": 423
        },
        "id": "GZcSg02jg2nR",
        "outputId": "8a18eaed-a95a-481c-b5f5-285b5e0a24c6"
      },
      "execution_count": null,
      "outputs": [
        {
          "output_type": "execute_result",
          "data": {
            "text/plain": [
              "     sepal-length  sepal-width  petal-length  petal-width           Class\n",
              "0             5.1          3.5           1.4          0.2     Iris-setosa\n",
              "1             4.9          3.0           1.4          0.2     Iris-setosa\n",
              "2             4.7          3.2           1.3          0.2     Iris-setosa\n",
              "3             4.6          3.1           1.5          0.2     Iris-setosa\n",
              "4             5.0          3.6           1.4          0.2     Iris-setosa\n",
              "..            ...          ...           ...          ...             ...\n",
              "145           6.7          3.0           5.2          2.3  Iris-virginica\n",
              "146           6.3          2.5           5.0          1.9  Iris-virginica\n",
              "147           6.5          3.0           5.2          2.0  Iris-virginica\n",
              "148           6.2          3.4           5.4          2.3  Iris-virginica\n",
              "149           5.9          3.0           5.1          1.8  Iris-virginica\n",
              "\n",
              "[150 rows x 5 columns]"
            ],
            "text/html": [
              "\n",
              "  <div id=\"df-589a2ab9-313c-4a52-8672-e61c3edd5b95\">\n",
              "    <div class=\"colab-df-container\">\n",
              "      <div>\n",
              "<style scoped>\n",
              "    .dataframe tbody tr th:only-of-type {\n",
              "        vertical-align: middle;\n",
              "    }\n",
              "\n",
              "    .dataframe tbody tr th {\n",
              "        vertical-align: top;\n",
              "    }\n",
              "\n",
              "    .dataframe thead th {\n",
              "        text-align: right;\n",
              "    }\n",
              "</style>\n",
              "<table border=\"1\" class=\"dataframe\">\n",
              "  <thead>\n",
              "    <tr style=\"text-align: right;\">\n",
              "      <th></th>\n",
              "      <th>sepal-length</th>\n",
              "      <th>sepal-width</th>\n",
              "      <th>petal-length</th>\n",
              "      <th>petal-width</th>\n",
              "      <th>Class</th>\n",
              "    </tr>\n",
              "  </thead>\n",
              "  <tbody>\n",
              "    <tr>\n",
              "      <th>0</th>\n",
              "      <td>5.1</td>\n",
              "      <td>3.5</td>\n",
              "      <td>1.4</td>\n",
              "      <td>0.2</td>\n",
              "      <td>Iris-setosa</td>\n",
              "    </tr>\n",
              "    <tr>\n",
              "      <th>1</th>\n",
              "      <td>4.9</td>\n",
              "      <td>3.0</td>\n",
              "      <td>1.4</td>\n",
              "      <td>0.2</td>\n",
              "      <td>Iris-setosa</td>\n",
              "    </tr>\n",
              "    <tr>\n",
              "      <th>2</th>\n",
              "      <td>4.7</td>\n",
              "      <td>3.2</td>\n",
              "      <td>1.3</td>\n",
              "      <td>0.2</td>\n",
              "      <td>Iris-setosa</td>\n",
              "    </tr>\n",
              "    <tr>\n",
              "      <th>3</th>\n",
              "      <td>4.6</td>\n",
              "      <td>3.1</td>\n",
              "      <td>1.5</td>\n",
              "      <td>0.2</td>\n",
              "      <td>Iris-setosa</td>\n",
              "    </tr>\n",
              "    <tr>\n",
              "      <th>4</th>\n",
              "      <td>5.0</td>\n",
              "      <td>3.6</td>\n",
              "      <td>1.4</td>\n",
              "      <td>0.2</td>\n",
              "      <td>Iris-setosa</td>\n",
              "    </tr>\n",
              "    <tr>\n",
              "      <th>...</th>\n",
              "      <td>...</td>\n",
              "      <td>...</td>\n",
              "      <td>...</td>\n",
              "      <td>...</td>\n",
              "      <td>...</td>\n",
              "    </tr>\n",
              "    <tr>\n",
              "      <th>145</th>\n",
              "      <td>6.7</td>\n",
              "      <td>3.0</td>\n",
              "      <td>5.2</td>\n",
              "      <td>2.3</td>\n",
              "      <td>Iris-virginica</td>\n",
              "    </tr>\n",
              "    <tr>\n",
              "      <th>146</th>\n",
              "      <td>6.3</td>\n",
              "      <td>2.5</td>\n",
              "      <td>5.0</td>\n",
              "      <td>1.9</td>\n",
              "      <td>Iris-virginica</td>\n",
              "    </tr>\n",
              "    <tr>\n",
              "      <th>147</th>\n",
              "      <td>6.5</td>\n",
              "      <td>3.0</td>\n",
              "      <td>5.2</td>\n",
              "      <td>2.0</td>\n",
              "      <td>Iris-virginica</td>\n",
              "    </tr>\n",
              "    <tr>\n",
              "      <th>148</th>\n",
              "      <td>6.2</td>\n",
              "      <td>3.4</td>\n",
              "      <td>5.4</td>\n",
              "      <td>2.3</td>\n",
              "      <td>Iris-virginica</td>\n",
              "    </tr>\n",
              "    <tr>\n",
              "      <th>149</th>\n",
              "      <td>5.9</td>\n",
              "      <td>3.0</td>\n",
              "      <td>5.1</td>\n",
              "      <td>1.8</td>\n",
              "      <td>Iris-virginica</td>\n",
              "    </tr>\n",
              "  </tbody>\n",
              "</table>\n",
              "<p>150 rows × 5 columns</p>\n",
              "</div>\n",
              "      <button class=\"colab-df-convert\" onclick=\"convertToInteractive('df-589a2ab9-313c-4a52-8672-e61c3edd5b95')\"\n",
              "              title=\"Convert this dataframe to an interactive table.\"\n",
              "              style=\"display:none;\">\n",
              "        \n",
              "  <svg xmlns=\"http://www.w3.org/2000/svg\" height=\"24px\"viewBox=\"0 0 24 24\"\n",
              "       width=\"24px\">\n",
              "    <path d=\"M0 0h24v24H0V0z\" fill=\"none\"/>\n",
              "    <path d=\"M18.56 5.44l.94 2.06.94-2.06 2.06-.94-2.06-.94-.94-2.06-.94 2.06-2.06.94zm-11 1L8.5 8.5l.94-2.06 2.06-.94-2.06-.94L8.5 2.5l-.94 2.06-2.06.94zm10 10l.94 2.06.94-2.06 2.06-.94-2.06-.94-.94-2.06-.94 2.06-2.06.94z\"/><path d=\"M17.41 7.96l-1.37-1.37c-.4-.4-.92-.59-1.43-.59-.52 0-1.04.2-1.43.59L10.3 9.45l-7.72 7.72c-.78.78-.78 2.05 0 2.83L4 21.41c.39.39.9.59 1.41.59.51 0 1.02-.2 1.41-.59l7.78-7.78 2.81-2.81c.8-.78.8-2.07 0-2.86zM5.41 20L4 18.59l7.72-7.72 1.47 1.35L5.41 20z\"/>\n",
              "  </svg>\n",
              "      </button>\n",
              "      \n",
              "  <style>\n",
              "    .colab-df-container {\n",
              "      display:flex;\n",
              "      flex-wrap:wrap;\n",
              "      gap: 12px;\n",
              "    }\n",
              "\n",
              "    .colab-df-convert {\n",
              "      background-color: #E8F0FE;\n",
              "      border: none;\n",
              "      border-radius: 50%;\n",
              "      cursor: pointer;\n",
              "      display: none;\n",
              "      fill: #1967D2;\n",
              "      height: 32px;\n",
              "      padding: 0 0 0 0;\n",
              "      width: 32px;\n",
              "    }\n",
              "\n",
              "    .colab-df-convert:hover {\n",
              "      background-color: #E2EBFA;\n",
              "      box-shadow: 0px 1px 2px rgba(60, 64, 67, 0.3), 0px 1px 3px 1px rgba(60, 64, 67, 0.15);\n",
              "      fill: #174EA6;\n",
              "    }\n",
              "\n",
              "    [theme=dark] .colab-df-convert {\n",
              "      background-color: #3B4455;\n",
              "      fill: #D2E3FC;\n",
              "    }\n",
              "\n",
              "    [theme=dark] .colab-df-convert:hover {\n",
              "      background-color: #434B5C;\n",
              "      box-shadow: 0px 1px 3px 1px rgba(0, 0, 0, 0.15);\n",
              "      filter: drop-shadow(0px 1px 2px rgba(0, 0, 0, 0.3));\n",
              "      fill: #FFFFFF;\n",
              "    }\n",
              "  </style>\n",
              "\n",
              "      <script>\n",
              "        const buttonEl =\n",
              "          document.querySelector('#df-589a2ab9-313c-4a52-8672-e61c3edd5b95 button.colab-df-convert');\n",
              "        buttonEl.style.display =\n",
              "          google.colab.kernel.accessAllowed ? 'block' : 'none';\n",
              "\n",
              "        async function convertToInteractive(key) {\n",
              "          const element = document.querySelector('#df-589a2ab9-313c-4a52-8672-e61c3edd5b95');\n",
              "          const dataTable =\n",
              "            await google.colab.kernel.invokeFunction('convertToInteractive',\n",
              "                                                     [key], {});\n",
              "          if (!dataTable) return;\n",
              "\n",
              "          const docLinkHtml = 'Like what you see? Visit the ' +\n",
              "            '<a target=\"_blank\" href=https://colab.research.google.com/notebooks/data_table.ipynb>data table notebook</a>'\n",
              "            + ' to learn more about interactive tables.';\n",
              "          element.innerHTML = '';\n",
              "          dataTable['output_type'] = 'display_data';\n",
              "          await google.colab.output.renderOutput(dataTable, element);\n",
              "          const docLink = document.createElement('div');\n",
              "          docLink.innerHTML = docLinkHtml;\n",
              "          element.appendChild(docLink);\n",
              "        }\n",
              "      </script>\n",
              "    </div>\n",
              "  </div>\n",
              "  "
            ]
          },
          "metadata": {},
          "execution_count": 20
        }
      ]
    },
    {
      "cell_type": "markdown",
      "source": [
        "\n",
        "\n",
        "\n",
        "\n",
        "*   Mengambil class dari nilai categorical yang terdapat pada data iris\n",
        "\n",
        "\n"
      ],
      "metadata": {
        "id": "i-hY_vtri-MX"
      }
    },
    {
      "cell_type": "code",
      "source": [
        "irisdata['Class'] = pd.Categorical(irisdata[\"Class\"])\n",
        "irisdata[\"Class\"] = irisdata[\"Class\"].cat.codes"
      ],
      "metadata": {
        "id": "kRJ1gnhMg6Go"
      },
      "execution_count": null,
      "outputs": []
    },
    {
      "cell_type": "markdown",
      "source": [
        "\n",
        "\n",
        "*  Mendefinisikan variabel X dan Y\n",
        "\n"
      ],
      "metadata": {
        "id": "671GH0L-jMzS"
      }
    },
    {
      "cell_type": "code",
      "source": [
        "from re import X\n",
        "x = irisdata.values[:, 0:25]\n",
        "y = irisdata.values[:, 4]"
      ],
      "metadata": {
        "id": "JPZULioig-wM"
      },
      "execution_count": null,
      "outputs": []
    },
    {
      "cell_type": "markdown",
      "source": [
        "\n",
        "\n",
        "* Membuat fungsi kmeans\n",
        "\n"
      ],
      "metadata": {
        "id": "eUWnglQDjjeR"
      }
    },
    {
      "cell_type": "code",
      "source": [
        "from sklearn.cluster import KMeans\n",
        "# Number of clusters\n",
        "kmeans = KMeans(n_clusters=3)\n",
        "# Fitting the input data\n",
        "kmeans = kmeans.fit(x)"
      ],
      "metadata": {
        "id": "D5MzP2TyjsGG"
      },
      "execution_count": null,
      "outputs": []
    },
    {
      "cell_type": "markdown",
      "source": [
        "\n",
        "\n",
        "*   Menampilkan labels yang digunakan\n",
        "\n"
      ],
      "metadata": {
        "id": "ItzMQsK3kITl"
      }
    },
    {
      "cell_type": "code",
      "source": [
        "# Getting the cluster labels\n",
        "labels = kmeans.predict(x)"
      ],
      "metadata": {
        "id": "dYEokplTkOeC"
      },
      "execution_count": null,
      "outputs": []
    },
    {
      "cell_type": "code",
      "source": [
        "labels"
      ],
      "metadata": {
        "colab": {
          "base_uri": "https://localhost:8080/"
        },
        "id": "UcJfhn1AzyKe",
        "outputId": "a92e174b-1a2e-40b8-f22e-7c3022a817a2"
      },
      "execution_count": null,
      "outputs": [
        {
          "output_type": "execute_result",
          "data": {
            "text/plain": [
              "array([1, 1, 1, 1, 1, 1, 1, 1, 1, 1, 1, 1, 1, 1, 1, 1, 1, 1, 1, 1, 1, 1,\n",
              "       1, 1, 1, 1, 1, 1, 1, 1, 1, 1, 1, 1, 1, 1, 1, 1, 1, 1, 1, 1, 1, 1,\n",
              "       1, 1, 1, 1, 1, 1, 0, 0, 0, 0, 0, 0, 0, 0, 0, 0, 0, 0, 0, 0, 0, 0,\n",
              "       0, 0, 0, 0, 0, 0, 0, 0, 0, 0, 0, 0, 0, 0, 0, 0, 0, 0, 0, 0, 0, 0,\n",
              "       0, 0, 0, 0, 0, 0, 0, 0, 0, 0, 0, 0, 2, 2, 2, 2, 2, 2, 0, 2, 2, 2,\n",
              "       2, 2, 2, 2, 2, 2, 2, 2, 2, 2, 2, 2, 2, 2, 2, 2, 2, 2, 2, 2, 2, 2,\n",
              "       2, 2, 2, 2, 2, 2, 2, 2, 2, 2, 2, 2, 2, 2, 2, 2, 2, 2], dtype=int32)"
            ]
          },
          "metadata": {},
          "execution_count": 34
        }
      ]
    },
    {
      "cell_type": "markdown",
      "source": [
        "\n",
        "\n",
        "* Menampilkan Hasil Centeroids\n",
        "\n"
      ],
      "metadata": {
        "id": "1aE_QKrDkUTI"
      }
    },
    {
      "cell_type": "code",
      "source": [
        "# Centroid values\n",
        "centroids = kmeans.cluster_centers_"
      ],
      "metadata": {
        "id": "D16_FbzxkcTZ"
      },
      "execution_count": null,
      "outputs": []
    },
    {
      "cell_type": "code",
      "source": [
        "centroids"
      ],
      "metadata": {
        "colab": {
          "base_uri": "https://localhost:8080/"
        },
        "id": "8EqvU3WLkgW0",
        "outputId": "dcbea8c5-7765-4647-e81d-cc01a627c389"
      },
      "execution_count": null,
      "outputs": [
        {
          "output_type": "execute_result",
          "data": {
            "text/plain": [
              "array([[5.006     , 3.418     , 1.464     , 0.244     , 0.        ],\n",
              "       [5.91568627, 2.76470588, 4.26470588, 1.33333333, 1.01960784],\n",
              "       [6.62244898, 2.98367347, 5.57346939, 2.03265306, 2.        ]])"
            ]
          },
          "metadata": {},
          "execution_count": 35
        }
      ]
    },
    {
      "cell_type": "markdown",
      "source": [
        "\n",
        "\n",
        "*  Visualisasi Hasil Clustering\n",
        "\n"
      ],
      "metadata": {
        "id": "tjtDODhOkju8"
      }
    },
    {
      "cell_type": "code",
      "source": [
        "#Visualising the clusters\n",
        "plt.title(\"Hasil Clustering K-Means\")\n",
        "plt.scatter(x[y == 0, 0], x[y == 0, 1], s = 100, c = 'blue', label = 'Iris-setosa')\n",
        "plt.scatter(x[y == 1, 0], x[y == 1, 1], s = 100, c = 'green', label = 'Iris-versicolour')\n",
        "plt.scatter(x[y == 2, 0], x[y == 2, 1], s = 100, c = 'red', label = 'Iris-virginica')\n",
        "\n",
        "#Plotting the centroids of the clusters\n",
        "plt.scatter(kmeans.cluster_centers_[:, 0], kmeans.cluster_centers_[:,1], s = 100, c = 'yellow', label = 'Centroids')\n",
        "\n",
        "plt.legend()"
      ],
      "metadata": {
        "colab": {
          "base_uri": "https://localhost:8080/",
          "height": 299
        },
        "id": "C3USj_3Rk1nW",
        "outputId": "f447179f-2110-45c7-890b-6141a6ef33bf"
      },
      "execution_count": null,
      "outputs": [
        {
          "output_type": "execute_result",
          "data": {
            "text/plain": [
              "<matplotlib.legend.Legend at 0x7fbd8d46d490>"
            ]
          },
          "metadata": {},
          "execution_count": 36
        },
        {
          "output_type": "display_data",
          "data": {
            "text/plain": [
              "<Figure size 432x288 with 1 Axes>"
            ],
            "image/png": "[encoded data removed]"
          },
          "metadata": {
            "needs_background": "light"
          }
        }
      ]
    },
    {
      "cell_type": "markdown",
      "source": [
        "\n",
        "\n",
        "*   Menentukan Hasil Akurasi\n",
        "\n"
      ],
      "metadata": {
        "id": "ZPoOn-lDlJCy"
      }
    },
    {
      "cell_type": "code",
      "source": [
        "from sklearn.metrics import classification_report\n",
        "\n",
        "target_names = ['Iris-setosa', 'Iris-versicolor', 'Iris-virginica']\n",
        "\n",
        "print(classification_report(irisdata['Class'],kmeans.labels_,target_names=target_names))"
      ],
      "metadata": {
        "colab": {
          "base_uri": "https://localhost:8080/"
        },
        "id": "3a_RVCdylOWN",
        "outputId": "36540ea1-6280-4786-9ca0-5cb61d30e58c"
      },
      "execution_count": null,
      "outputs": [
        {
          "output_type": "stream",
          "name": "stdout",
          "text": [
            "                 precision    recall  f1-score   support\n",
            "\n",
            "    Iris-setosa       0.00      0.00      0.00        50\n",
            "Iris-versicolor       0.00      0.00      0.00        50\n",
            " Iris-virginica       1.00      0.98      0.99        50\n",
            "\n",
            "       accuracy                           0.33       150\n",
            "      macro avg       0.33      0.33      0.33       150\n",
            "   weighted avg       0.33      0.33      0.33       150\n",
            "\n"
          ]
        }
      ]
    }
  ]
}